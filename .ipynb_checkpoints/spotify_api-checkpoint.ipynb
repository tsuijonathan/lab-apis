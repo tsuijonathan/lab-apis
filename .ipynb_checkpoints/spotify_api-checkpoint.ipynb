{
 "cells": [
  {
   "cell_type": "code",
   "execution_count": 18,
   "id": "e7032cc8-5479-49d2-8c2d-2f98c49f884c",
   "metadata": {},
   "outputs": [],
   "source": [
    "from dotenv import load_dotenv\n",
    "import os\n",
    "import spotipy\n",
    "from spotipy.oauth2 import SpotifyClientCredentials"
   ]
  },
  {
   "cell_type": "code",
   "execution_count": 20,
   "id": "9d15877c-e02c-4115-836b-5a01492b9168",
   "metadata": {},
   "outputs": [],
   "source": [
    "with open(\".env\", \"w\") as env_file:\n",
    "    env_file.write(\"SPOTIPY_CLIENT_ID=63799c6d926d4adfb02144afd910b085\\n\")\n",
    "    env_file.write(\"SPOTIPY_CLIENT_SECRET=7ada6a33b195445aaa3962da45db695a\\n\")"
   ]
  },
  {
   "cell_type": "code",
   "execution_count": 22,
   "id": "2be635f2-616c-4653-a2cb-be56058a24d8",
   "metadata": {},
   "outputs": [],
   "source": [
    "# Load environment variables from the .env file\n",
    "load_dotenv()\n",
    "\n",
    "# Retrieve credentials from environment variables\n",
    "client_id = os.getenv(\"SPOTIPY_CLIENT_ID\")\n",
    "client_secret = os.getenv(\"SPOTIPY_CLIENT_SECRET\")\n",
    "\n",
    "# Initialize Spotipy with client credentials\n",
    "sp = spotipy.Spotify(auth_manager=SpotifyClientCredentials(client_id=client_id,\n",
    "                                                           client_secret=client_secret))"
   ]
  },
  {
   "cell_type": "code",
   "execution_count": 24,
   "id": "1c1ea7b5-432a-44dc-bf46-c2eb937391e7",
   "metadata": {},
   "outputs": [
    {
     "name": "stdout",
     "output_type": "stream",
     "text": [
      "Éxitos España - 37i9dQZF1DXaxEKcoCdWHD\n",
      "PEGAO - 37i9dQZF1DX1HCSfq0nSal\n",
      "Viva Latino - 37i9dQZF1DX10zKzsJ2jva\n",
      "Viral España 2024 - 37i9dQZF1DWVJv1UsWItkB\n",
      "Today’s Top Hits - 37i9dQZF1DXcBWIGoYBM5M\n"
     ]
    }
   ],
   "source": [
    "featured_playlists = sp.featured_playlists(limit=5)\n",
    "for playlist in featured_playlists['playlists']['items']:\n",
    "    print(playlist['name'], \"-\", playlist['id'])"
   ]
  },
  {
   "cell_type": "code",
   "execution_count": null,
   "id": "84bdd621-00a5-441c-ac32-bddf7bb87472",
   "metadata": {},
   "outputs": [],
   "source": []
  }
 ],
 "metadata": {
  "kernelspec": {
   "display_name": "Python 3 (ipykernel)",
   "language": "python",
   "name": "python3"
  },
  "language_info": {
   "codemirror_mode": {
    "name": "ipython",
    "version": 3
   },
   "file_extension": ".py",
   "mimetype": "text/x-python",
   "name": "python",
   "nbconvert_exporter": "python",
   "pygments_lexer": "ipython3",
   "version": "3.12.4"
  }
 },
 "nbformat": 4,
 "nbformat_minor": 5
}
